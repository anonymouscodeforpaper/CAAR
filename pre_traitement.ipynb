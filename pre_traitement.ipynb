{
 "cells": [
  {
   "cell_type": "code",
   "execution_count": 1,
   "metadata": {},
   "outputs": [
    {
     "name": "stderr",
     "output_type": "stream",
     "text": [
      "<frozen importlib._bootstrap>:219: RuntimeWarning: numpy.ufunc size changed, may indicate binary incompatibility. Expected 216 from C header, got 232 from PyObject\n",
      "<frozen importlib._bootstrap>:219: RuntimeWarning: numpy.ufunc size changed, may indicate binary incompatibility. Expected 192 from C header, got 232 from PyObject\n",
      "<frozen importlib._bootstrap>:219: RuntimeWarning: numpy.ufunc size changed, may indicate binary incompatibility. Expected 216 from C header, got 232 from PyObject\n",
      "<frozen importlib._bootstrap>:219: RuntimeWarning: numpy.ufunc size changed, may indicate binary incompatibility. Expected 192 from C header, got 232 from PyObject\n",
      "<frozen importlib._bootstrap>:219: RuntimeWarning: numpy.ufunc size changed, may indicate binary incompatibility. Expected 216 from C header, got 232 from PyObject\n",
      "<frozen importlib._bootstrap>:219: RuntimeWarning: numpy.ufunc size changed, may indicate binary incompatibility. Expected 192 from C header, got 232 from PyObject\n",
      "<frozen importlib._bootstrap>:219: RuntimeWarning: numpy.ufunc size changed, may indicate binary incompatibility. Expected 192 from C header, got 232 from PyObject\n",
      "<frozen importlib._bootstrap>:219: RuntimeWarning: numpy.ufunc size changed, may indicate binary incompatibility. Expected 192 from C header, got 232 from PyObject\n"
     ]
    }
   ],
   "source": [
    "import pandas as pd\n",
    "import numpy as np\n",
    "from surprise import NormalPredictor\n",
    "from surprise import Dataset\n",
    "from surprise import Reader\n",
    "from surprise.model_selection import cross_validate\n",
    "from surprise import SVD\n",
    "from surprise import SVDpp\n",
    "from surprise import Dataset\n",
    "from surprise.model_selection import GridSearchCV\n",
    "from sklearn.preprocessing import normalize\n",
    "import scipy.cluster.hierarchy as shc\n",
    "import matplotlib.pyplot as plt\n",
    "from sklearn.cluster import AgglomerativeClustering\n",
    "import math\n",
    "from sklearn.model_selection import train_test_split\n",
    "from sklearn.preprocessing import LabelEncoder \n",
    "from collections import defaultdict\n",
    "import torch\n",
    "from torch import nn\n",
    "from scipy.sparse import rand as sprand\n",
    "from sklearn.preprocessing import LabelEncoder"
   ]
  },
  {
   "cell_type": "code",
   "execution_count": 3,
   "metadata": {},
   "outputs": [],
   "source": [
    "def read(args):\n",
    "    if args.name == 'Frappe':\n",
    "        df = pd.read_csv('frappe.csv', sep=\"\\t\")\n",
    "        meta_app = pd.read_csv('meta.csv', sep=\"\\t\")\n",
    "        df_context = df.copy()\n",
    "        del df_context['cost']\n",
    "        df_context['cnt'] = df['cnt'].astype('float')\n",
    "        df_context['cnt'] = df_context['cnt'].apply(np.log10) ## transformation of the number of interactions by log\n",
    "        a = df_context['user'].value_counts()[df_context['user'].value_counts() >= 10] ## Here we apply the 10-core setting to ensure the quality of the dataset\n",
    "        df_context = df_context[df_context['user'].isin(list(a.index))]\n",
    "        \n",
    "        \n",
    "        meta_app = meta_app[meta_app['item'].isin(list(set(df_context['item'].values)))] ## Here we filter out the items that are excluded by the 10-core setting\n",
    "        \n",
    "        \n",
    "        \n",
    "        ### From line 18 to line 24, we give new index to each user and item after the 10-core setting\n",
    "        le = LabelEncoder()\n",
    "        b = le.fit_transform(meta_app['item'])\n",
    "        i = meta_app['item'].valuesdict_co = dict(zip(i, b))\n",
    "        df_context['item'] = df_context['item'].map(dict_co)\n",
    "        meta_app['item'] = b \n",
    "        b = le.fit_transform(df_context['user'])\n",
    "        df_context['user'] = b\n",
    "        \n",
    "        \n",
    "        df_context = trans_frame(df_context,3) #we give index to all the contextual conditions (starting from 0)\n",
    "        \n",
    "        \n",
    "        \n",
    "        ### From line 32 to line 39 we process the attribute of apps namely category, number of downloads, price and ratings given by other users\n",
    "        meta_app_knowledge = meta_app[['item','category','downloads','language','price','rating']]\n",
    "        meta_app_knowledge['price'] = np.where(meta_app_knowledge['price'] == 'Free', 'Free',\n",
    "                                       np.where(meta_app_knowledge['price'] == 'unknown','Unknown','Paid'))\n",
    "        meta_app_knowledge['rating'][meta_app_knowledge['rating'] == 'unknown'] = 0\n",
    "        meta_app_knowledge['rating'] = meta_app_knowledge['rating'].astype('float')\n",
    "        meta_app_knowledge['rating'] = np.where(meta_app_knowledge['rating'] == 0, 'Unknown',\n",
    "                                       np.where(meta_app_knowledge['rating'] >=4.3, 'High_price',\n",
    "                                               np.where(meta_app_knowledge['rating'] >= 3.8, 'Mid_price','Low_price')))\n",
    "        \n",
    "        \n",
    "        meta_app_knowledge = trans_frame(meta_app_knowledge,1)#we give index to all attributes of items (starting from 0)\n",
    "        meta_app_knowledge.to_csv('meta_app.csv',index = False)\n",
    "        df_context.to_csv('final_app.csv', index = False)"
   ]
  },
  {
   "cell_type": "code",
   "execution_count": 4,
   "metadata": {},
   "outputs": [],
   "source": [
    "def trans_frame(df,k):\n",
    "    x = 0\n",
    "    for col in df.columns[k:]:\n",
    "        num = len(df[col].value_counts())\n",
    "        le = LabelEncoder()\n",
    "        y = le.fit_transform(df[col])\n",
    "        df[col] = y\n",
    "        df[col] = df[col] + x\n",
    "        x += num\n",
    "    return df"
   ]
  }
 ],
 "metadata": {
  "kernelspec": {
   "display_name": "Python 3",
   "language": "python",
   "name": "python3"
  },
  "language_info": {
   "codemirror_mode": {
    "name": "ipython",
    "version": 3
   },
   "file_extension": ".py",
   "mimetype": "text/x-python",
   "name": "python",
   "nbconvert_exporter": "python",
   "pygments_lexer": "ipython3",
   "version": "3.8.3"
  }
 },
 "nbformat": 4,
 "nbformat_minor": 4
}
